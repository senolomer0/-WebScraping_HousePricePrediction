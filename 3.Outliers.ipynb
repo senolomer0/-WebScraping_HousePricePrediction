{
 "cells": [
  {
   "cell_type": "markdown",
   "metadata": {},
   "source": [
    "<h1 style=\"color: rgb(0, 136, 204);font-family: times;font-size: 40px;\"><center>Outlier Analysis</center></h1>"
   ]
  },
  {
   "cell_type": "markdown",
   "metadata": {},
   "source": [
    "### -------------------------------------------------------------------------------------------------------------------------------------------------------------------"
   ]
  },
  {
   "cell_type": "markdown",
   "metadata": {},
   "source": [
    " "
   ]
  },
  {
   "cell_type": "code",
   "execution_count": 1,
   "metadata": {},
   "outputs": [],
   "source": [
    "import pandas as pd\n",
    "import seaborn as sns\n",
    "import numpy as np\n",
    "import matplotlib.pyplot as plt"
   ]
  },
  {
   "cell_type": "code",
   "execution_count": 2,
   "metadata": {},
   "outputs": [
    {
     "data": {
      "text/html": [
       "<div>\n",
       "<style scoped>\n",
       "    .dataframe tbody tr th:only-of-type {\n",
       "        vertical-align: middle;\n",
       "    }\n",
       "\n",
       "    .dataframe tbody tr th {\n",
       "        vertical-align: top;\n",
       "    }\n",
       "\n",
       "    .dataframe thead th {\n",
       "        text-align: right;\n",
       "    }\n",
       "</style>\n",
       "<table border=\"1\" class=\"dataframe\">\n",
       "  <thead>\n",
       "    <tr style=\"text-align: right;\">\n",
       "      <th></th>\n",
       "      <th>fiyat</th>\n",
       "      <th>il</th>\n",
       "      <th>ilce</th>\n",
       "      <th>emlak_tipi</th>\n",
       "      <th>m2_brut</th>\n",
       "      <th>m2_net</th>\n",
       "      <th>oda</th>\n",
       "      <th>bina_yasi</th>\n",
       "      <th>bulundugu_kat</th>\n",
       "      <th>kat_sayisi</th>\n",
       "      <th>isitma</th>\n",
       "      <th>banyo</th>\n",
       "      <th>balkon</th>\n",
       "      <th>esyali</th>\n",
       "      <th>kullanim_durumu</th>\n",
       "      <th>site_icerisinde</th>\n",
       "      <th>krediye_uygun</th>\n",
       "      <th>kimden</th>\n",
       "      <th>takas</th>\n",
       "    </tr>\n",
       "  </thead>\n",
       "  <tbody>\n",
       "    <tr>\n",
       "      <th>0</th>\n",
       "      <td>319000</td>\n",
       "      <td>istanbul</td>\n",
       "      <td>beylikdüzü</td>\n",
       "      <td>daire</td>\n",
       "      <td>120</td>\n",
       "      <td>112</td>\n",
       "      <td>2+1</td>\n",
       "      <td>3</td>\n",
       "      <td>15</td>\n",
       "      <td>18</td>\n",
       "      <td>merkezi</td>\n",
       "      <td>2</td>\n",
       "      <td>yok</td>\n",
       "      <td>hayır</td>\n",
       "      <td>boş</td>\n",
       "      <td>evet</td>\n",
       "      <td>evet</td>\n",
       "      <td>emlak ofisinden</td>\n",
       "      <td>hayır</td>\n",
       "    </tr>\n",
       "    <tr>\n",
       "      <th>1</th>\n",
       "      <td>163000</td>\n",
       "      <td>istanbul</td>\n",
       "      <td>esenyurt</td>\n",
       "      <td>daire</td>\n",
       "      <td>115</td>\n",
       "      <td>100</td>\n",
       "      <td>2+1</td>\n",
       "      <td>7</td>\n",
       "      <td>1</td>\n",
       "      <td>4</td>\n",
       "      <td>doğalgaz</td>\n",
       "      <td>1</td>\n",
       "      <td>var</td>\n",
       "      <td>hayır</td>\n",
       "      <td>boş</td>\n",
       "      <td>hayır</td>\n",
       "      <td>evet</td>\n",
       "      <td>emlak ofisinden</td>\n",
       "      <td>evet</td>\n",
       "    </tr>\n",
       "    <tr>\n",
       "      <th>2</th>\n",
       "      <td>273000</td>\n",
       "      <td>istanbul</td>\n",
       "      <td>başakşehir</td>\n",
       "      <td>daire</td>\n",
       "      <td>80</td>\n",
       "      <td>70</td>\n",
       "      <td>2+1</td>\n",
       "      <td>2</td>\n",
       "      <td>yüksek giriş</td>\n",
       "      <td>4</td>\n",
       "      <td>doğalgaz</td>\n",
       "      <td>1</td>\n",
       "      <td>yok</td>\n",
       "      <td>hayır</td>\n",
       "      <td>boş</td>\n",
       "      <td>hayır</td>\n",
       "      <td>evet</td>\n",
       "      <td>emlak ofisinden</td>\n",
       "      <td>hayır</td>\n",
       "    </tr>\n",
       "    <tr>\n",
       "      <th>3</th>\n",
       "      <td>299000</td>\n",
       "      <td>istanbul</td>\n",
       "      <td>esenyurt</td>\n",
       "      <td>daire</td>\n",
       "      <td>110</td>\n",
       "      <td>90</td>\n",
       "      <td>2+1</td>\n",
       "      <td>4</td>\n",
       "      <td>4</td>\n",
       "      <td>4</td>\n",
       "      <td>doğalgaz</td>\n",
       "      <td>1</td>\n",
       "      <td>var</td>\n",
       "      <td>hayır</td>\n",
       "      <td>boş</td>\n",
       "      <td>hayır</td>\n",
       "      <td>evet</td>\n",
       "      <td>emlak ofisinden</td>\n",
       "      <td>evet</td>\n",
       "    </tr>\n",
       "    <tr>\n",
       "      <th>4</th>\n",
       "      <td>469000</td>\n",
       "      <td>istanbul</td>\n",
       "      <td>beylikdüzü</td>\n",
       "      <td>daire</td>\n",
       "      <td>125</td>\n",
       "      <td>115</td>\n",
       "      <td>2+1</td>\n",
       "      <td>2</td>\n",
       "      <td>1</td>\n",
       "      <td>5</td>\n",
       "      <td>doğalgaz</td>\n",
       "      <td>2</td>\n",
       "      <td>var</td>\n",
       "      <td>hayır</td>\n",
       "      <td>boş</td>\n",
       "      <td>hayır</td>\n",
       "      <td>evet</td>\n",
       "      <td>inşaat firmasından</td>\n",
       "      <td>evet</td>\n",
       "    </tr>\n",
       "  </tbody>\n",
       "</table>\n",
       "</div>"
      ],
      "text/plain": [
       "    fiyat        il        ilce emlak_tipi  m2_brut  m2_net  oda  bina_yasi  \\\n",
       "0  319000  istanbul  beylikdüzü      daire      120     112  2+1          3   \n",
       "1  163000  istanbul    esenyurt      daire      115     100  2+1          7   \n",
       "2  273000  istanbul  başakşehir      daire       80      70  2+1          2   \n",
       "3  299000  istanbul    esenyurt      daire      110      90  2+1          4   \n",
       "4  469000  istanbul  beylikdüzü      daire      125     115  2+1          2   \n",
       "\n",
       "  bulundugu_kat  kat_sayisi    isitma  banyo balkon esyali kullanim_durumu  \\\n",
       "0            15          18   merkezi      2    yok  hayır             boş   \n",
       "1             1           4  doğalgaz      1    var  hayır             boş   \n",
       "2  yüksek giriş           4  doğalgaz      1    yok  hayır             boş   \n",
       "3             4           4  doğalgaz      1    var  hayır             boş   \n",
       "4             1           5  doğalgaz      2    var  hayır             boş   \n",
       "\n",
       "  site_icerisinde krediye_uygun              kimden  takas  \n",
       "0            evet          evet     emlak ofisinden  hayır  \n",
       "1           hayır          evet     emlak ofisinden   evet  \n",
       "2           hayır          evet     emlak ofisinden  hayır  \n",
       "3           hayır          evet     emlak ofisinden   evet  \n",
       "4           hayır          evet  inşaat firmasından   evet  "
      ]
     },
     "execution_count": 2,
     "metadata": {},
     "output_type": "execute_result"
    }
   ],
   "source": [
    "df = pd.read_csv(\"Datasets/data_analyzed.csv\")\n",
    "df.head()"
   ]
  },
  {
   "cell_type": "markdown",
   "metadata": {},
   "source": [
    "## Elimination Of Missing Values"
   ]
  },
  {
   "cell_type": "code",
   "execution_count": 3,
   "metadata": {},
   "outputs": [
    {
     "data": {
      "text/plain": [
       "fiyat                0\n",
       "il                   0\n",
       "ilce                 0\n",
       "emlak_tipi           0\n",
       "m2_brut              0\n",
       "m2_net               0\n",
       "oda                  0\n",
       "bina_yasi            0\n",
       "bulundugu_kat        0\n",
       "kat_sayisi           0\n",
       "isitma               0\n",
       "banyo                0\n",
       "balkon               0\n",
       "esyali               0\n",
       "kullanim_durumu      0\n",
       "site_icerisinde    581\n",
       "krediye_uygun        0\n",
       "kimden               0\n",
       "takas                0\n",
       "dtype: int64"
      ]
     },
     "execution_count": 3,
     "metadata": {},
     "output_type": "execute_result"
    }
   ],
   "source": [
    "df.isnull().sum()"
   ]
  },
  {
   "cell_type": "code",
   "execution_count": 4,
   "metadata": {},
   "outputs": [
    {
     "data": {
      "text/plain": [
       "hayır            4397\n",
       "evet             1448\n",
       "belirtilmemiş     405\n",
       "Name: site_icerisinde, dtype: int64"
      ]
     },
     "execution_count": 4,
     "metadata": {},
     "output_type": "execute_result"
    }
   ],
   "source": [
    "df.site_icerisinde.value_counts()"
   ]
  },
  {
   "cell_type": "code",
   "execution_count": 5,
   "metadata": {},
   "outputs": [],
   "source": [
    "df.site_icerisinde.fillna(\"hayır\",inplace=True)\n",
    "#Missing values were filled with the most repeated values."
   ]
  },
  {
   "cell_type": "code",
   "execution_count": 6,
   "metadata": {},
   "outputs": [
    {
     "data": {
      "text/plain": [
       "0"
      ]
     },
     "execution_count": 6,
     "metadata": {},
     "output_type": "execute_result"
    }
   ],
   "source": [
    "df.site_icerisinde.isnull().sum()"
   ]
  },
  {
   "cell_type": "markdown",
   "metadata": {},
   "source": [
    "## Data Editing"
   ]
  },
  {
   "cell_type": "markdown",
   "metadata": {},
   "source": [
    "* hayır : No\n",
    "* evet : Yes\n",
    "* belirtilmemiş : not specified\n",
    "\n",
    "Since users do not want to specify some features while posting an advertisement on the site, a data type called \"belirtilmemiş\" has been created. This data has been replaced with the most repeating value in the categorical variable it contains."
   ]
  },
  {
   "cell_type": "code",
   "execution_count": 7,
   "metadata": {},
   "outputs": [
    {
     "data": {
      "text/plain": [
       "hayır            6075\n",
       "evet              486\n",
       "belirtilmemiş     270\n",
       "Name: esyali, dtype: int64"
      ]
     },
     "execution_count": 7,
     "metadata": {},
     "output_type": "execute_result"
    }
   ],
   "source": [
    "df.esyali.value_counts()"
   ]
  },
  {
   "cell_type": "code",
   "execution_count": 8,
   "metadata": {},
   "outputs": [],
   "source": [
    "df.loc[df.esyali == \"belirtilmemiş\", \"esyali\"] = \"hayır\""
   ]
  },
  {
   "cell_type": "code",
   "execution_count": 9,
   "metadata": {},
   "outputs": [
    {
     "data": {
      "text/plain": [
       "evet             6017\n",
       "hayır             578\n",
       "belirtilmemiş     236\n",
       "Name: krediye_uygun, dtype: int64"
      ]
     },
     "execution_count": 9,
     "metadata": {},
     "output_type": "execute_result"
    }
   ],
   "source": [
    "df.krediye_uygun.value_counts()"
   ]
  },
  {
   "cell_type": "code",
   "execution_count": 10,
   "metadata": {},
   "outputs": [],
   "source": [
    "df.loc[df.krediye_uygun == \"belirtilmemiş\", \"krediye_uygun\"] = \"evet\""
   ]
  },
  {
   "cell_type": "code",
   "execution_count": 11,
   "metadata": {},
   "outputs": [
    {
     "data": {
      "text/plain": [
       "hayır            4978\n",
       "evet             1448\n",
       "belirtilmemiş     405\n",
       "Name: site_icerisinde, dtype: int64"
      ]
     },
     "execution_count": 11,
     "metadata": {},
     "output_type": "execute_result"
    }
   ],
   "source": [
    "df.site_icerisinde.value_counts()"
   ]
  },
  {
   "cell_type": "code",
   "execution_count": 12,
   "metadata": {},
   "outputs": [],
   "source": [
    "df.loc[df.site_icerisinde == \"belirtilmemiş\", \"site_icerisinde\"] = \"evet\""
   ]
  },
  {
   "cell_type": "markdown",
   "metadata": {},
   "source": [
    "## Outlier Detection"
   ]
  },
  {
   "cell_type": "code",
   "execution_count": 13,
   "metadata": {},
   "outputs": [
    {
     "data": {
      "text/html": [
       "<div>\n",
       "<style scoped>\n",
       "    .dataframe tbody tr th:only-of-type {\n",
       "        vertical-align: middle;\n",
       "    }\n",
       "\n",
       "    .dataframe tbody tr th {\n",
       "        vertical-align: top;\n",
       "    }\n",
       "\n",
       "    .dataframe thead th {\n",
       "        text-align: right;\n",
       "    }\n",
       "</style>\n",
       "<table border=\"1\" class=\"dataframe\">\n",
       "  <thead>\n",
       "    <tr style=\"text-align: right;\">\n",
       "      <th></th>\n",
       "      <th>count</th>\n",
       "      <th>mean</th>\n",
       "      <th>std</th>\n",
       "      <th>min</th>\n",
       "      <th>25%</th>\n",
       "      <th>50%</th>\n",
       "      <th>75%</th>\n",
       "      <th>max</th>\n",
       "    </tr>\n",
       "  </thead>\n",
       "  <tbody>\n",
       "    <tr>\n",
       "      <th>fiyat</th>\n",
       "      <td>6831.0</td>\n",
       "      <td>524715.409750</td>\n",
       "      <td>588078.525883</td>\n",
       "      <td>50400.0</td>\n",
       "      <td>285000.0</td>\n",
       "      <td>399000.0</td>\n",
       "      <td>590000.0</td>\n",
       "      <td>18000000.0</td>\n",
       "    </tr>\n",
       "    <tr>\n",
       "      <th>m2_brut</th>\n",
       "      <td>6831.0</td>\n",
       "      <td>152.021666</td>\n",
       "      <td>67.326560</td>\n",
       "      <td>36.0</td>\n",
       "      <td>110.0</td>\n",
       "      <td>145.0</td>\n",
       "      <td>180.0</td>\n",
       "      <td>1600.0</td>\n",
       "    </tr>\n",
       "    <tr>\n",
       "      <th>m2_net</th>\n",
       "      <td>6831.0</td>\n",
       "      <td>132.099400</td>\n",
       "      <td>55.647975</td>\n",
       "      <td>22.0</td>\n",
       "      <td>98.5</td>\n",
       "      <td>125.0</td>\n",
       "      <td>155.0</td>\n",
       "      <td>1600.0</td>\n",
       "    </tr>\n",
       "    <tr>\n",
       "      <th>bina_yasi</th>\n",
       "      <td>6831.0</td>\n",
       "      <td>6.808666</td>\n",
       "      <td>8.244053</td>\n",
       "      <td>0.0</td>\n",
       "      <td>0.0</td>\n",
       "      <td>4.0</td>\n",
       "      <td>7.0</td>\n",
       "      <td>31.0</td>\n",
       "    </tr>\n",
       "    <tr>\n",
       "      <th>kat_sayisi</th>\n",
       "      <td>6831.0</td>\n",
       "      <td>6.614405</td>\n",
       "      <td>4.088593</td>\n",
       "      <td>1.0</td>\n",
       "      <td>4.0</td>\n",
       "      <td>5.0</td>\n",
       "      <td>8.0</td>\n",
       "      <td>30.0</td>\n",
       "    </tr>\n",
       "    <tr>\n",
       "      <th>banyo</th>\n",
       "      <td>6831.0</td>\n",
       "      <td>1.481774</td>\n",
       "      <td>0.563336</td>\n",
       "      <td>1.0</td>\n",
       "      <td>1.0</td>\n",
       "      <td>1.0</td>\n",
       "      <td>2.0</td>\n",
       "      <td>5.0</td>\n",
       "    </tr>\n",
       "  </tbody>\n",
       "</table>\n",
       "</div>"
      ],
      "text/plain": [
       "             count           mean            std      min       25%       50%  \\\n",
       "fiyat       6831.0  524715.409750  588078.525883  50400.0  285000.0  399000.0   \n",
       "m2_brut     6831.0     152.021666      67.326560     36.0     110.0     145.0   \n",
       "m2_net      6831.0     132.099400      55.647975     22.0      98.5     125.0   \n",
       "bina_yasi   6831.0       6.808666       8.244053      0.0       0.0       4.0   \n",
       "kat_sayisi  6831.0       6.614405       4.088593      1.0       4.0       5.0   \n",
       "banyo       6831.0       1.481774       0.563336      1.0       1.0       1.0   \n",
       "\n",
       "                 75%         max  \n",
       "fiyat       590000.0  18000000.0  \n",
       "m2_brut        180.0      1600.0  \n",
       "m2_net         155.0      1600.0  \n",
       "bina_yasi        7.0        31.0  \n",
       "kat_sayisi       8.0        30.0  \n",
       "banyo            2.0         5.0  "
      ]
     },
     "execution_count": 13,
     "metadata": {},
     "output_type": "execute_result"
    }
   ],
   "source": [
    "df.describe().T"
   ]
  },
  {
   "cell_type": "code",
   "execution_count": 14,
   "metadata": {},
   "outputs": [
    {
     "name": "stdout",
     "output_type": "stream",
     "text": [
      "Minimum Outlier Value: -172500.0\n",
      "Maximum Outlier Value: 1047500.0\n"
     ]
    }
   ],
   "source": [
    "q1_price = df[\"fiyat\"].quantile(0.25)\n",
    "q3_price = df[\"fiyat\"].quantile(0.75)\n",
    "\n",
    "iqr_price = q3_price - q1_price\n",
    "\n",
    "minim = q1_price - (1.5*iqr_price)\n",
    "maxim = q3_price + (1.5*iqr_price)\n",
    "\n",
    "print(\"Minimum Outlier Value:\",minim)\n",
    "print(\"Maximum Outlier Value:\",maxim)\n",
    "\n",
    "data = df[(df.fiyat > maxim)].index\n",
    "df.drop(data, axis=0, inplace=True)"
   ]
  },
  {
   "cell_type": "code",
   "execution_count": 15,
   "metadata": {},
   "outputs": [
    {
     "name": "stdout",
     "output_type": "stream",
     "text": [
      "Minimum Outlier Value: 12.5\n",
      "Maximum Outlier Value: 272.5\n"
     ]
    }
   ],
   "source": [
    "q1 = df[\"m2_brut\"].quantile(0.25)\n",
    "q3 = df[\"m2_brut\"].quantile(0.75)\n",
    "\n",
    "iqr = q3 - q1\n",
    "\n",
    "minim = q1 - (1.5*iqr)\n",
    "maxim = q3 + (1.5*iqr)\n",
    "\n",
    "print(\"Minimum Outlier Value:\",minim)\n",
    "print(\"Maximum Outlier Value:\",maxim)\n",
    "\n",
    "data = df[(df.m2_brut > maxim) | (df.m2_brut < np.abs(minim))].index\n",
    "df.drop(data, axis=0, inplace=True)"
   ]
  },
  {
   "cell_type": "code",
   "execution_count": 16,
   "metadata": {},
   "outputs": [
    {
     "name": "stdout",
     "output_type": "stream",
     "text": [
      "Minimum Outlier Value: 12.5\n",
      "Maximum Outlier Value: 232.5\n"
     ]
    }
   ],
   "source": [
    "q1 = df[\"m2_net\"].quantile(0.25)\n",
    "q3 = df[\"m2_net\"].quantile(0.75)\n",
    "\n",
    "iqr = q3 - q1\n",
    "\n",
    "minim = q1 - (1.5*iqr)\n",
    "maxim = q3 + (1.5*iqr)\n",
    "\n",
    "print(\"Minimum Outlier Value:\",minim)\n",
    "print(\"Maximum Outlier Value:\",maxim)\n",
    "\n",
    "data = df[(df.m2_net > maxim) | (df.m2_net < minim)].index\n",
    "df.drop(data, axis=0, inplace=True)"
   ]
  },
  {
   "cell_type": "code",
   "execution_count": 17,
   "metadata": {},
   "outputs": [
    {
     "data": {
      "text/html": [
       "<div>\n",
       "<style scoped>\n",
       "    .dataframe tbody tr th:only-of-type {\n",
       "        vertical-align: middle;\n",
       "    }\n",
       "\n",
       "    .dataframe tbody tr th {\n",
       "        vertical-align: top;\n",
       "    }\n",
       "\n",
       "    .dataframe thead th {\n",
       "        text-align: right;\n",
       "    }\n",
       "</style>\n",
       "<table border=\"1\" class=\"dataframe\">\n",
       "  <thead>\n",
       "    <tr style=\"text-align: right;\">\n",
       "      <th></th>\n",
       "      <th>count</th>\n",
       "      <th>mean</th>\n",
       "      <th>std</th>\n",
       "      <th>min</th>\n",
       "      <th>25%</th>\n",
       "      <th>50%</th>\n",
       "      <th>75%</th>\n",
       "      <th>max</th>\n",
       "    </tr>\n",
       "  </thead>\n",
       "  <tbody>\n",
       "    <tr>\n",
       "      <th>fiyat</th>\n",
       "      <td>6207.0</td>\n",
       "      <td>416242.429032</td>\n",
       "      <td>193171.570450</td>\n",
       "      <td>50400.0</td>\n",
       "      <td>275000.0</td>\n",
       "      <td>375000.0</td>\n",
       "      <td>530000.0</td>\n",
       "      <td>1040000.0</td>\n",
       "    </tr>\n",
       "    <tr>\n",
       "      <th>m2_brut</th>\n",
       "      <td>6207.0</td>\n",
       "      <td>142.487997</td>\n",
       "      <td>43.147793</td>\n",
       "      <td>36.0</td>\n",
       "      <td>110.0</td>\n",
       "      <td>140.0</td>\n",
       "      <td>175.0</td>\n",
       "      <td>270.0</td>\n",
       "    </tr>\n",
       "    <tr>\n",
       "      <th>m2_net</th>\n",
       "      <td>6207.0</td>\n",
       "      <td>124.653295</td>\n",
       "      <td>38.030772</td>\n",
       "      <td>22.0</td>\n",
       "      <td>95.0</td>\n",
       "      <td>125.0</td>\n",
       "      <td>150.0</td>\n",
       "      <td>230.0</td>\n",
       "    </tr>\n",
       "    <tr>\n",
       "      <th>bina_yasi</th>\n",
       "      <td>6207.0</td>\n",
       "      <td>6.843886</td>\n",
       "      <td>8.285372</td>\n",
       "      <td>0.0</td>\n",
       "      <td>0.0</td>\n",
       "      <td>4.0</td>\n",
       "      <td>10.0</td>\n",
       "      <td>31.0</td>\n",
       "    </tr>\n",
       "    <tr>\n",
       "      <th>kat_sayisi</th>\n",
       "      <td>6207.0</td>\n",
       "      <td>6.446915</td>\n",
       "      <td>3.764803</td>\n",
       "      <td>1.0</td>\n",
       "      <td>4.0</td>\n",
       "      <td>5.0</td>\n",
       "      <td>8.0</td>\n",
       "      <td>30.0</td>\n",
       "    </tr>\n",
       "    <tr>\n",
       "      <th>banyo</th>\n",
       "      <td>6207.0</td>\n",
       "      <td>1.418237</td>\n",
       "      <td>0.512533</td>\n",
       "      <td>1.0</td>\n",
       "      <td>1.0</td>\n",
       "      <td>1.0</td>\n",
       "      <td>2.0</td>\n",
       "      <td>4.0</td>\n",
       "    </tr>\n",
       "  </tbody>\n",
       "</table>\n",
       "</div>"
      ],
      "text/plain": [
       "             count           mean            std      min       25%       50%  \\\n",
       "fiyat       6207.0  416242.429032  193171.570450  50400.0  275000.0  375000.0   \n",
       "m2_brut     6207.0     142.487997      43.147793     36.0     110.0     140.0   \n",
       "m2_net      6207.0     124.653295      38.030772     22.0      95.0     125.0   \n",
       "bina_yasi   6207.0       6.843886       8.285372      0.0       0.0       4.0   \n",
       "kat_sayisi  6207.0       6.446915       3.764803      1.0       4.0       5.0   \n",
       "banyo       6207.0       1.418237       0.512533      1.0       1.0       1.0   \n",
       "\n",
       "                 75%        max  \n",
       "fiyat       530000.0  1040000.0  \n",
       "m2_brut        175.0      270.0  \n",
       "m2_net         150.0      230.0  \n",
       "bina_yasi       10.0       31.0  \n",
       "kat_sayisi       8.0       30.0  \n",
       "banyo            2.0        4.0  "
      ]
     },
     "execution_count": 17,
     "metadata": {},
     "output_type": "execute_result"
    }
   ],
   "source": [
    "df.describe().T"
   ]
  },
  {
   "cell_type": "markdown",
   "metadata": {},
   "source": [
    "After removing the outliers from the data set, we notice a noticeable decrease when we examine the statistical standard deviations of the numerical values in the data set."
   ]
  },
  {
   "cell_type": "code",
   "execution_count": 18,
   "metadata": {},
   "outputs": [
    {
     "data": {
      "image/png": "[encoded data removed]",
      "text/plain": [
       "<Figure size 1008x720 with 2 Axes>"
      ]
     },
     "metadata": {
      "needs_background": "light"
     },
     "output_type": "display_data"
    }
   ],
   "source": [
    "plt.figure(figsize=(14,10))\n",
    "sns.heatmap(df.corr(), annot=True, fmt=\".2f\");"
   ]
  },
  {
   "cell_type": "code",
   "execution_count": 19,
   "metadata": {},
   "outputs": [],
   "source": [
    "df.to_csv(r\"Datasets/data_analyzed.csv\",encoding=\"utf-8\",index=False,mode=\"w\")"
   ]
  },
  {
   "cell_type": "code",
   "execution_count": null,
   "metadata": {},
   "outputs": [],
   "source": []
  }
 ],
 "metadata": {
  "kernelspec": {
   "display_name": "Python 3",
   "language": "python",
   "name": "python3"
  },
  "language_info": {
   "codemirror_mode": {
    "name": "ipython",
    "version": 3
   },
   "file_extension": ".py",
   "mimetype": "text/x-python",
   "name": "python",
   "nbconvert_exporter": "python",
   "pygments_lexer": "ipython3",
   "version": "3.7.6"
  }
 },
 "nbformat": 4,
 "nbformat_minor": 4
}
