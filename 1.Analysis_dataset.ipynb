{
 "cells": [
  {
   "cell_type": "markdown",
   "metadata": {},
   "source": [
    "<h1 style=\"color: rgb(0, 136, 204);font-family: times;font-size: 50px;\"><center>House Price Prediction</center></h1>"
   ]
  },
  {
   "cell_type": "markdown",
   "metadata": {},
   "source": [
    "### -------------------------------------------------------------------------------------------------------------------------------------------------------------------"
   ]
  },
  {
   "cell_type": "markdown",
   "metadata": {},
   "source": [
    "### This data set is obtained from a Turkish real estate website. Therefore, all data are in Turkish. However, the data analysis process will continue in English completely. Due to the privacy policy, we cannot tell from which site we obtained the data. So let's start."
   ]
  },
  {
   "cell_type": "markdown",
   "metadata": {},
   "source": [
    " "
   ]
  },
  {
   "cell_type": "markdown",
   "metadata": {},
   "source": [
    "<img src=\"Photos/notebook_header_photo.jpg\">"
   ]
  },
  {
   "cell_type": "markdown",
   "metadata": {},
   "source": [
    "   "
   ]
  },
  {
   "cell_type": "markdown",
   "metadata": {},
   "source": [
    "   "
   ]
  },
  {
   "cell_type": "code",
   "execution_count": 1,
   "metadata": {},
   "outputs": [],
   "source": [
    "import pandas as pd\n",
    "import numpy as np"
   ]
  },
  {
   "cell_type": "code",
   "execution_count": 2,
   "metadata": {},
   "outputs": [
    {
     "data": {
      "text/html": [
       "<div>\n",
       "<style scoped>\n",
       "    .dataframe tbody tr th:only-of-type {\n",
       "        vertical-align: middle;\n",
       "    }\n",
       "\n",
       "    .dataframe tbody tr th {\n",
       "        vertical-align: top;\n",
       "    }\n",
       "\n",
       "    .dataframe thead th {\n",
       "        text-align: right;\n",
       "    }\n",
       "</style>\n",
       "<table border=\"1\" class=\"dataframe\">\n",
       "  <thead>\n",
       "    <tr style=\"text-align: right;\">\n",
       "      <th></th>\n",
       "      <th>fiyat</th>\n",
       "      <th>il</th>\n",
       "      <th>ilce</th>\n",
       "      <th>ilan_tarihi</th>\n",
       "      <th>emlak_tipi</th>\n",
       "      <th>m²_(brüt)</th>\n",
       "      <th>m²_(net)</th>\n",
       "      <th>oda_sayısı</th>\n",
       "      <th>bina_yaşı</th>\n",
       "      <th>bulunduğu_kat</th>\n",
       "      <th>...</th>\n",
       "      <th>banyo_sayısı</th>\n",
       "      <th>balkon</th>\n",
       "      <th>eşyalı</th>\n",
       "      <th>kullanım_durumu</th>\n",
       "      <th>site_içerisinde</th>\n",
       "      <th>aidat_(tl)</th>\n",
       "      <th>krediye_uygun</th>\n",
       "      <th>kimden</th>\n",
       "      <th>görüntülü_arama_ile_gezilebilir</th>\n",
       "      <th>takas</th>\n",
       "    </tr>\n",
       "  </thead>\n",
       "  <tbody>\n",
       "    <tr>\n",
       "      <th>0</th>\n",
       "      <td>319000</td>\n",
       "      <td>istanbul</td>\n",
       "      <td>beylikdüzü</td>\n",
       "      <td>20 ocak 2021</td>\n",
       "      <td>satılık daire</td>\n",
       "      <td>120</td>\n",
       "      <td>112</td>\n",
       "      <td>2+1</td>\n",
       "      <td>3</td>\n",
       "      <td>15</td>\n",
       "      <td>...</td>\n",
       "      <td>2</td>\n",
       "      <td>yok</td>\n",
       "      <td>hayır</td>\n",
       "      <td>boş</td>\n",
       "      <td>evet</td>\n",
       "      <td>belirtilmemiş</td>\n",
       "      <td>evet</td>\n",
       "      <td>emlak ofisinden</td>\n",
       "      <td>hayır</td>\n",
       "      <td>hayır</td>\n",
       "    </tr>\n",
       "    <tr>\n",
       "      <th>1</th>\n",
       "      <td>163000</td>\n",
       "      <td>istanbul</td>\n",
       "      <td>esenyurt</td>\n",
       "      <td>20 ocak 2021</td>\n",
       "      <td>satılık daire</td>\n",
       "      <td>115</td>\n",
       "      <td>100</td>\n",
       "      <td>2+1</td>\n",
       "      <td>5-10 arası</td>\n",
       "      <td>1</td>\n",
       "      <td>...</td>\n",
       "      <td>1</td>\n",
       "      <td>var</td>\n",
       "      <td>hayır</td>\n",
       "      <td>boş</td>\n",
       "      <td>hayır</td>\n",
       "      <td>15</td>\n",
       "      <td>evet</td>\n",
       "      <td>emlak ofisinden</td>\n",
       "      <td>evet</td>\n",
       "      <td>evet</td>\n",
       "    </tr>\n",
       "    <tr>\n",
       "      <th>2</th>\n",
       "      <td>273000</td>\n",
       "      <td>istanbul</td>\n",
       "      <td>başakşehir</td>\n",
       "      <td>20 ocak 2021</td>\n",
       "      <td>satılık daire</td>\n",
       "      <td>80</td>\n",
       "      <td>70</td>\n",
       "      <td>2+1</td>\n",
       "      <td>2</td>\n",
       "      <td>yüksek giriş</td>\n",
       "      <td>...</td>\n",
       "      <td>1</td>\n",
       "      <td>yok</td>\n",
       "      <td>hayır</td>\n",
       "      <td>boş</td>\n",
       "      <td>hayır</td>\n",
       "      <td>20</td>\n",
       "      <td>evet</td>\n",
       "      <td>emlak ofisinden</td>\n",
       "      <td>evet</td>\n",
       "      <td>hayır</td>\n",
       "    </tr>\n",
       "    <tr>\n",
       "      <th>3</th>\n",
       "      <td>299000</td>\n",
       "      <td>istanbul</td>\n",
       "      <td>esenyurt</td>\n",
       "      <td>20 ocak 2021</td>\n",
       "      <td>satılık daire</td>\n",
       "      <td>110</td>\n",
       "      <td>90</td>\n",
       "      <td>2+1</td>\n",
       "      <td>4</td>\n",
       "      <td>4</td>\n",
       "      <td>...</td>\n",
       "      <td>1</td>\n",
       "      <td>var</td>\n",
       "      <td>hayır</td>\n",
       "      <td>boş</td>\n",
       "      <td>hayır</td>\n",
       "      <td>25</td>\n",
       "      <td>evet</td>\n",
       "      <td>emlak ofisinden</td>\n",
       "      <td>hayır</td>\n",
       "      <td>evet</td>\n",
       "    </tr>\n",
       "    <tr>\n",
       "      <th>4</th>\n",
       "      <td>469000</td>\n",
       "      <td>istanbul</td>\n",
       "      <td>beylikdüzü</td>\n",
       "      <td>20 ocak 2021</td>\n",
       "      <td>satılık daire</td>\n",
       "      <td>125</td>\n",
       "      <td>115</td>\n",
       "      <td>2+1</td>\n",
       "      <td>2</td>\n",
       "      <td>1</td>\n",
       "      <td>...</td>\n",
       "      <td>2</td>\n",
       "      <td>var</td>\n",
       "      <td>hayır</td>\n",
       "      <td>boş</td>\n",
       "      <td>hayır</td>\n",
       "      <td>belirtilmemiş</td>\n",
       "      <td>evet</td>\n",
       "      <td>inşaat firmasından</td>\n",
       "      <td>evet</td>\n",
       "      <td>evet</td>\n",
       "    </tr>\n",
       "  </tbody>\n",
       "</table>\n",
       "<p>5 rows × 22 columns</p>\n",
       "</div>"
      ],
      "text/plain": [
       "    fiyat         il          ilce     ilan_tarihi        emlak_tipi  \\\n",
       "0  319000  istanbul    beylikdüzü     20 ocak 2021    satılık daire    \n",
       "1  163000  istanbul      esenyurt     20 ocak 2021    satılık daire    \n",
       "2  273000  istanbul    başakşehir     20 ocak 2021    satılık daire    \n",
       "3  299000  istanbul      esenyurt     20 ocak 2021    satılık daire    \n",
       "4  469000  istanbul    beylikdüzü     20 ocak 2021    satılık daire    \n",
       "\n",
       "  m²_(brüt) m²_(net) oda_sayısı     bina_yaşı   bulunduğu_kat  ...  \\\n",
       "0       120      112        2+1             3              15  ...   \n",
       "1       115      100        2+1    5-10 arası               1  ...   \n",
       "2        80       70        2+1             2    yüksek giriş  ...   \n",
       "3       110       90        2+1             4               4  ...   \n",
       "4       125      115        2+1             2               1  ...   \n",
       "\n",
       "  banyo_sayısı balkon   eşyalı kullanım_durumu site_içerisinde  \\\n",
       "0            2    yok    hayır             boş            evet   \n",
       "1            1    var    hayır             boş           hayır   \n",
       "2            1    yok    hayır             boş           hayır   \n",
       "3            1    var    hayır             boş           hayır   \n",
       "4            2    var    hayır             boş           hayır   \n",
       "\n",
       "        aidat_(tl) krediye_uygun                kimden  \\\n",
       "0    belirtilmemiş          evet       emlak ofisinden   \n",
       "1               15          evet       emlak ofisinden   \n",
       "2               20          evet       emlak ofisinden   \n",
       "3               25          evet       emlak ofisinden   \n",
       "4    belirtilmemiş          evet    inşaat firmasından   \n",
       "\n",
       "  görüntülü_arama_ile_gezilebilir     takas  \n",
       "0                           hayır    hayır   \n",
       "1                            evet     evet   \n",
       "2                            evet    hayır   \n",
       "3                           hayır     evet   \n",
       "4                            evet     evet   \n",
       "\n",
       "[5 rows x 22 columns]"
      ]
     },
     "execution_count": 2,
     "metadata": {},
     "output_type": "execute_result"
    }
   ],
   "source": [
    "df = pd.read_csv(\"Datasets/property.csv\")\n",
    "df.head()"
   ]
  },
  {
   "cell_type": "code",
   "execution_count": 3,
   "metadata": {},
   "outputs": [
    {
     "data": {
      "text/plain": [
       "(6895, 22)"
      ]
     },
     "execution_count": 3,
     "metadata": {},
     "output_type": "execute_result"
    }
   ],
   "source": [
    "df.shape"
   ]
  },
  {
   "cell_type": "code",
   "execution_count": 4,
   "metadata": {},
   "outputs": [
    {
     "name": "stdout",
     "output_type": "stream",
     "text": [
      "<class 'pandas.core.frame.DataFrame'>\n",
      "RangeIndex: 6895 entries, 0 to 6894\n",
      "Data columns (total 22 columns):\n",
      " #   Column                           Non-Null Count  Dtype \n",
      "---  ------                           --------------  ----- \n",
      " 0   fiyat                            6895 non-null   object\n",
      " 1   il                               6895 non-null   object\n",
      " 2   ilce                             6895 non-null   object\n",
      " 3   ilan_tarihi                      6895 non-null   object\n",
      " 4   emlak_tipi                       6895 non-null   object\n",
      " 5   m²_(brüt)                        6895 non-null   object\n",
      " 6   m²_(net)                         6895 non-null   object\n",
      " 7   oda_sayısı                       6895 non-null   object\n",
      " 8   bina_yaşı                        6895 non-null   object\n",
      " 9   bulunduğu_kat                    6895 non-null   object\n",
      " 10  kat_sayısı                       6895 non-null   object\n",
      " 11  isıtma                           6895 non-null   object\n",
      " 12  banyo_sayısı                     6895 non-null   object\n",
      " 13  balkon                           6895 non-null   object\n",
      " 14  eşyalı                           6895 non-null   object\n",
      " 15  kullanım_durumu                  6895 non-null   object\n",
      " 16  site_içerisinde                  6895 non-null   object\n",
      " 17  aidat_(tl)                       6895 non-null   object\n",
      " 18  krediye_uygun                    6895 non-null   object\n",
      " 19  kimden                           6895 non-null   object\n",
      " 20  görüntülü_arama_ile_gezilebilir  6895 non-null   object\n",
      " 21  takas                            6895 non-null   object\n",
      "dtypes: object(22)\n",
      "memory usage: 1.2+ MB\n"
     ]
    }
   ],
   "source": [
    "df.info()"
   ]
  },
  {
   "cell_type": "markdown",
   "metadata": {},
   "source": [
    "## Rename Columns"
   ]
  },
  {
   "cell_type": "markdown",
   "metadata": {},
   "source": [
    "### Features\n",
    "\n",
    "* fiyat : House price\n",
    "* il : City\n",
    "* ilce : District\n",
    "* ilan_tarihi : Listing date\n",
    "* emlak_tipi : Property type\n",
    "* m2_brut: Square meter gross\n",
    "* m2_net : Square meter net\n",
    "* oda : The number of rooms in the apartment\n",
    "* bina_yasi : Building age\n",
    "* bulundugu_kat : Floor of the apartment\n",
    "* kat_sayisi : The number of floors in the building\n",
    "* isitma : Heating system of the apartment\n",
    "* banyo : The number of bathroom in the apartment\n",
    "* balkon : Whether the apartment has a balcony\n",
    "* esyali : Whether the apartment is sold as furnished or not\n",
    "* kullanim_durumu : Whether there is anyone (tenant, property owner) currently using the apartment\n",
    "* site_icerisinde : Whether the apartment is in the site or not\n",
    "* aidat : Monthly dues for the apartment (corrupted data)\n",
    "* krediye_uygun : Whether the apartment is suitable for credit or not\n",
    "* kimden : By whom the apartment was sold\n",
    "* goruntulu_arama_ile_gezilebilir : Can the apartment be visited by video call?\n",
    "* takas : Does the seller accept the exchange?"
   ]
  },
  {
   "cell_type": "code",
   "execution_count": 5,
   "metadata": {},
   "outputs": [
    {
     "data": {
      "text/html": [
       "<div>\n",
       "<style scoped>\n",
       "    .dataframe tbody tr th:only-of-type {\n",
       "        vertical-align: middle;\n",
       "    }\n",
       "\n",
       "    .dataframe tbody tr th {\n",
       "        vertical-align: top;\n",
       "    }\n",
       "\n",
       "    .dataframe thead th {\n",
       "        text-align: right;\n",
       "    }\n",
       "</style>\n",
       "<table border=\"1\" class=\"dataframe\">\n",
       "  <thead>\n",
       "    <tr style=\"text-align: right;\">\n",
       "      <th></th>\n",
       "      <th>fiyat</th>\n",
       "      <th>il</th>\n",
       "      <th>ilce</th>\n",
       "      <th>ilan_tarihi</th>\n",
       "      <th>emlak_tipi</th>\n",
       "      <th>m2_brut</th>\n",
       "      <th>m2_net</th>\n",
       "      <th>oda</th>\n",
       "      <th>bina_yasi</th>\n",
       "      <th>bulundugu_kat</th>\n",
       "      <th>...</th>\n",
       "      <th>banyo</th>\n",
       "      <th>balkon</th>\n",
       "      <th>esyali</th>\n",
       "      <th>kullanim_durumu</th>\n",
       "      <th>site_icerisinde</th>\n",
       "      <th>aidat</th>\n",
       "      <th>krediye_uygun</th>\n",
       "      <th>kimden</th>\n",
       "      <th>goruntulu_arama_ile_gezilebilir</th>\n",
       "      <th>takas</th>\n",
       "    </tr>\n",
       "  </thead>\n",
       "  <tbody>\n",
       "    <tr>\n",
       "      <th>0</th>\n",
       "      <td>319000</td>\n",
       "      <td>istanbul</td>\n",
       "      <td>beylikdüzü</td>\n",
       "      <td>20 ocak 2021</td>\n",
       "      <td>satılık daire</td>\n",
       "      <td>120</td>\n",
       "      <td>112</td>\n",
       "      <td>2+1</td>\n",
       "      <td>3</td>\n",
       "      <td>15</td>\n",
       "      <td>...</td>\n",
       "      <td>2</td>\n",
       "      <td>yok</td>\n",
       "      <td>hayır</td>\n",
       "      <td>boş</td>\n",
       "      <td>evet</td>\n",
       "      <td>belirtilmemiş</td>\n",
       "      <td>evet</td>\n",
       "      <td>emlak ofisinden</td>\n",
       "      <td>hayır</td>\n",
       "      <td>hayır</td>\n",
       "    </tr>\n",
       "    <tr>\n",
       "      <th>1</th>\n",
       "      <td>163000</td>\n",
       "      <td>istanbul</td>\n",
       "      <td>esenyurt</td>\n",
       "      <td>20 ocak 2021</td>\n",
       "      <td>satılık daire</td>\n",
       "      <td>115</td>\n",
       "      <td>100</td>\n",
       "      <td>2+1</td>\n",
       "      <td>5-10 arası</td>\n",
       "      <td>1</td>\n",
       "      <td>...</td>\n",
       "      <td>1</td>\n",
       "      <td>var</td>\n",
       "      <td>hayır</td>\n",
       "      <td>boş</td>\n",
       "      <td>hayır</td>\n",
       "      <td>15</td>\n",
       "      <td>evet</td>\n",
       "      <td>emlak ofisinden</td>\n",
       "      <td>evet</td>\n",
       "      <td>evet</td>\n",
       "    </tr>\n",
       "  </tbody>\n",
       "</table>\n",
       "<p>2 rows × 22 columns</p>\n",
       "</div>"
      ],
      "text/plain": [
       "    fiyat         il          ilce     ilan_tarihi        emlak_tipi m2_brut  \\\n",
       "0  319000  istanbul    beylikdüzü     20 ocak 2021    satılık daire      120   \n",
       "1  163000  istanbul      esenyurt     20 ocak 2021    satılık daire      115   \n",
       "\n",
       "  m2_net    oda     bina_yasi bulundugu_kat  ... banyo balkon   esyali  \\\n",
       "0    112    2+1             3            15  ...     2    yok    hayır   \n",
       "1    100    2+1    5-10 arası             1  ...     1    var    hayır   \n",
       "\n",
       "  kullanim_durumu site_icerisinde            aidat krediye_uygun  \\\n",
       "0             boş            evet    belirtilmemiş          evet   \n",
       "1             boş           hayır               15          evet   \n",
       "\n",
       "              kimden goruntulu_arama_ile_gezilebilir     takas  \n",
       "0    emlak ofisinden                           hayır    hayır   \n",
       "1    emlak ofisinden                            evet     evet   \n",
       "\n",
       "[2 rows x 22 columns]"
      ]
     },
     "execution_count": 5,
     "metadata": {},
     "output_type": "execute_result"
    }
   ],
   "source": [
    "df.rename(columns={\"m²_(brüt)\":\"m2_brut\",\"m²_(net)\":\"m2_net\",\"oda_sayısı\":\"oda\",\"bina_yaşı\":\"bina_yasi\",\n",
    "                   \"bulunduğu_kat\":\"bulundugu_kat\",\"kat_sayısı\":\"kat_sayisi\",\"isıtma\":\"isitma\",\"banyo_sayısı\":\"banyo\",\n",
    "                  \"eşyalı\":\"esyali\",\"kullanım_durumu\":\"kullanim_durumu\",\"site_içerisinde\":\"site_icerisinde\",\"aidat_(tl)\":\"aidat\",\n",
    "                  \"görüntülü_arama_ile_gezilebilir\":\"goruntulu_arama_ile_gezilebilir\"}, inplace=True)\n",
    "df.head(2)"
   ]
  },
  {
   "cell_type": "code",
   "execution_count": 6,
   "metadata": {},
   "outputs": [
    {
     "name": "stdout",
     "output_type": "stream",
     "text": [
      "<class 'pandas.core.frame.DataFrame'>\n",
      "RangeIndex: 6895 entries, 0 to 6894\n",
      "Data columns (total 22 columns):\n",
      " #   Column                           Non-Null Count  Dtype \n",
      "---  ------                           --------------  ----- \n",
      " 0   fiyat                            6895 non-null   object\n",
      " 1   il                               6895 non-null   object\n",
      " 2   ilce                             6895 non-null   object\n",
      " 3   ilan_tarihi                      6895 non-null   object\n",
      " 4   emlak_tipi                       6895 non-null   object\n",
      " 5   m2_brut                          6895 non-null   object\n",
      " 6   m2_net                           6895 non-null   object\n",
      " 7   oda                              6895 non-null   object\n",
      " 8   bina_yasi                        6895 non-null   object\n",
      " 9   bulundugu_kat                    6895 non-null   object\n",
      " 10  kat_sayisi                       6895 non-null   object\n",
      " 11  isitma                           6895 non-null   object\n",
      " 12  banyo                            6895 non-null   object\n",
      " 13  balkon                           6895 non-null   object\n",
      " 14  esyali                           6895 non-null   object\n",
      " 15  kullanim_durumu                  6895 non-null   object\n",
      " 16  site_icerisinde                  6895 non-null   object\n",
      " 17  aidat                            6895 non-null   object\n",
      " 18  krediye_uygun                    6895 non-null   object\n",
      " 19  kimden                           6895 non-null   object\n",
      " 20  goruntulu_arama_ile_gezilebilir  6895 non-null   object\n",
      " 21  takas                            6895 non-null   object\n",
      "dtypes: object(22)\n",
      "memory usage: 1.2+ MB\n"
     ]
    }
   ],
   "source": [
    "df.info()"
   ]
  },
  {
   "cell_type": "markdown",
   "metadata": {},
   "source": [
    "# Drop Unnecessary Features"
   ]
  },
  {
   "cell_type": "markdown",
   "metadata": {},
   "source": [
    "* The variables \"ilan_tarihi\" and \"goruntulu_arama_ile_gezilebilir\" have been removed because they will not be functional in estimating a house price.\n",
    "\n",
    "\n",
    "* Due to an error while extracting data from the website, the \"aidat\" variable was removed from the data set because it was corrupted."
   ]
  },
  {
   "cell_type": "code",
   "execution_count": 7,
   "metadata": {},
   "outputs": [],
   "source": [
    "df.drop([\"ilan_tarihi\",\"goruntulu_arama_ile_gezilebilir\",\"aidat\"], axis=1, inplace=True)"
   ]
  },
  {
   "cell_type": "code",
   "execution_count": 8,
   "metadata": {},
   "outputs": [
    {
     "data": {
      "text/html": [
       "<div>\n",
       "<style scoped>\n",
       "    .dataframe tbody tr th:only-of-type {\n",
       "        vertical-align: middle;\n",
       "    }\n",
       "\n",
       "    .dataframe tbody tr th {\n",
       "        vertical-align: top;\n",
       "    }\n",
       "\n",
       "    .dataframe thead th {\n",
       "        text-align: right;\n",
       "    }\n",
       "</style>\n",
       "<table border=\"1\" class=\"dataframe\">\n",
       "  <thead>\n",
       "    <tr style=\"text-align: right;\">\n",
       "      <th></th>\n",
       "      <th>fiyat</th>\n",
       "      <th>il</th>\n",
       "      <th>ilce</th>\n",
       "      <th>emlak_tipi</th>\n",
       "      <th>m2_brut</th>\n",
       "      <th>m2_net</th>\n",
       "      <th>oda</th>\n",
       "      <th>bina_yasi</th>\n",
       "      <th>bulundugu_kat</th>\n",
       "      <th>kat_sayisi</th>\n",
       "      <th>isitma</th>\n",
       "      <th>banyo</th>\n",
       "      <th>balkon</th>\n",
       "      <th>esyali</th>\n",
       "      <th>kullanim_durumu</th>\n",
       "      <th>site_icerisinde</th>\n",
       "      <th>krediye_uygun</th>\n",
       "      <th>kimden</th>\n",
       "      <th>takas</th>\n",
       "    </tr>\n",
       "  </thead>\n",
       "  <tbody>\n",
       "    <tr>\n",
       "      <th>0</th>\n",
       "      <td>319000</td>\n",
       "      <td>istanbul</td>\n",
       "      <td>beylikdüzü</td>\n",
       "      <td>satılık daire</td>\n",
       "      <td>120</td>\n",
       "      <td>112</td>\n",
       "      <td>2+1</td>\n",
       "      <td>3</td>\n",
       "      <td>15</td>\n",
       "      <td>18</td>\n",
       "      <td>merkezi (pay ölçer)</td>\n",
       "      <td>2</td>\n",
       "      <td>yok</td>\n",
       "      <td>hayır</td>\n",
       "      <td>boş</td>\n",
       "      <td>evet</td>\n",
       "      <td>evet</td>\n",
       "      <td>emlak ofisinden</td>\n",
       "      <td>hayır</td>\n",
       "    </tr>\n",
       "    <tr>\n",
       "      <th>1</th>\n",
       "      <td>163000</td>\n",
       "      <td>istanbul</td>\n",
       "      <td>esenyurt</td>\n",
       "      <td>satılık daire</td>\n",
       "      <td>115</td>\n",
       "      <td>100</td>\n",
       "      <td>2+1</td>\n",
       "      <td>5-10 arası</td>\n",
       "      <td>1</td>\n",
       "      <td>4</td>\n",
       "      <td>doğalgaz (kombi)</td>\n",
       "      <td>1</td>\n",
       "      <td>var</td>\n",
       "      <td>hayır</td>\n",
       "      <td>boş</td>\n",
       "      <td>hayır</td>\n",
       "      <td>evet</td>\n",
       "      <td>emlak ofisinden</td>\n",
       "      <td>evet</td>\n",
       "    </tr>\n",
       "  </tbody>\n",
       "</table>\n",
       "</div>"
      ],
      "text/plain": [
       "    fiyat         il          ilce        emlak_tipi m2_brut m2_net    oda  \\\n",
       "0  319000  istanbul    beylikdüzü     satılık daire      120    112    2+1   \n",
       "1  163000  istanbul      esenyurt     satılık daire      115    100    2+1   \n",
       "\n",
       "      bina_yasi bulundugu_kat kat_sayisi                 isitma banyo balkon  \\\n",
       "0             3            15         18    merkezi (pay ölçer)     2    yok   \n",
       "1    5-10 arası             1          4       doğalgaz (kombi)     1    var   \n",
       "\n",
       "    esyali kullanim_durumu site_icerisinde krediye_uygun             kimden  \\\n",
       "0    hayır             boş            evet          evet    emlak ofisinden   \n",
       "1    hayır             boş           hayır          evet    emlak ofisinden   \n",
       "\n",
       "      takas  \n",
       "0    hayır   \n",
       "1     evet   "
      ]
     },
     "execution_count": 8,
     "metadata": {},
     "output_type": "execute_result"
    }
   ],
   "source": [
    "df.head(2)"
   ]
  },
  {
   "cell_type": "markdown",
   "metadata": {},
   "source": [
    "# Analyzing Data"
   ]
  },
  {
   "cell_type": "code",
   "execution_count": 9,
   "metadata": {},
   "outputs": [
    {
     "data": {
      "text/plain": [
       "   daire                6153\n",
       "  satılık daire          518\n",
       "   yazlık                 93\n",
       "emlak_tipi                59\n",
       "   residence              52\n",
       "  satılık residence       15\n",
       "   kooperatif              4\n",
       "  satılık yazlık           1\n",
       "Name: emlak_tipi, dtype: int64"
      ]
     },
     "execution_count": 9,
     "metadata": {},
     "output_type": "execute_result"
    }
   ],
   "source": [
    "df.emlak_tipi.value_counts()"
   ]
  },
  {
   "cell_type": "markdown",
   "metadata": {},
   "source": [
    "* As can be seen in the code above, there are spaces to the right and left of the data in the variables. The following loop was used to eliminate these gaps. This loop goes into all columns, respectively, and removes the spaces to the right and left of the values there with the strip() function."
   ]
  },
  {
   "cell_type": "code",
   "execution_count": 10,
   "metadata": {},
   "outputs": [],
   "source": [
    "columns = df.columns\n",
    "for col in columns:\n",
    "    liste = list(df[col])\n",
    "    for i in range(len(liste)):\n",
    "        liste[i] = liste[i].strip()\n",
    "    df[col] = liste"
   ]
  },
  {
   "cell_type": "code",
   "execution_count": 11,
   "metadata": {},
   "outputs": [
    {
     "data": {
      "text/plain": [
       "daire                6153\n",
       "satılık daire         518\n",
       "yazlık                 93\n",
       "emlak_tipi             59\n",
       "residence              52\n",
       "satılık residence      15\n",
       "kooperatif              4\n",
       "satılık yazlık          1\n",
       "Name: emlak_tipi, dtype: int64"
      ]
     },
     "execution_count": 11,
     "metadata": {},
     "output_type": "execute_result"
    }
   ],
   "source": [
    "df.emlak_tipi.value_counts()"
   ]
  },
  {
   "cell_type": "code",
   "execution_count": 12,
   "metadata": {},
   "outputs": [
    {
     "data": {
      "text/plain": [
       "mersin       869\n",
       "konya        846\n",
       "gaziantep    840\n",
       "istanbul     534\n",
       "trabzon      527\n",
       "ankara       520\n",
       "şanlıurfa    516\n",
       "antalya      508\n",
       "van          477\n",
       "bursa        475\n",
       "izmir        457\n",
       "muğla        267\n",
       "il            59\n",
       "Name: il, dtype: int64"
      ]
     },
     "execution_count": 12,
     "metadata": {},
     "output_type": "execute_result"
    }
   ],
   "source": [
    "df.il.value_counts()"
   ]
  },
  {
   "cell_type": "code",
   "execution_count": 13,
   "metadata": {},
   "outputs": [
    {
     "data": {
      "text/html": [
       "<div>\n",
       "<style scoped>\n",
       "    .dataframe tbody tr th:only-of-type {\n",
       "        vertical-align: middle;\n",
       "    }\n",
       "\n",
       "    .dataframe tbody tr th {\n",
       "        vertical-align: top;\n",
       "    }\n",
       "\n",
       "    .dataframe thead th {\n",
       "        text-align: right;\n",
       "    }\n",
       "</style>\n",
       "<table border=\"1\" class=\"dataframe\">\n",
       "  <thead>\n",
       "    <tr style=\"text-align: right;\">\n",
       "      <th></th>\n",
       "      <th>fiyat</th>\n",
       "      <th>il</th>\n",
       "      <th>ilce</th>\n",
       "      <th>emlak_tipi</th>\n",
       "      <th>m2_brut</th>\n",
       "      <th>m2_net</th>\n",
       "      <th>oda</th>\n",
       "      <th>bina_yasi</th>\n",
       "      <th>bulundugu_kat</th>\n",
       "      <th>kat_sayisi</th>\n",
       "      <th>isitma</th>\n",
       "      <th>banyo</th>\n",
       "      <th>balkon</th>\n",
       "      <th>esyali</th>\n",
       "      <th>kullanim_durumu</th>\n",
       "      <th>site_icerisinde</th>\n",
       "      <th>krediye_uygun</th>\n",
       "      <th>kimden</th>\n",
       "      <th>takas</th>\n",
       "    </tr>\n",
       "  </thead>\n",
       "  <tbody>\n",
       "    <tr>\n",
       "      <th>108</th>\n",
       "      <td>fiyat</td>\n",
       "      <td>il</td>\n",
       "      <td>ilce</td>\n",
       "      <td>emlak_tipi</td>\n",
       "      <td>m²_(brüt)</td>\n",
       "      <td>m²_(net)</td>\n",
       "      <td>oda_sayısı</td>\n",
       "      <td>bina_yaşı</td>\n",
       "      <td>bulunduğu_kat</td>\n",
       "      <td>kat_sayısı</td>\n",
       "      <td>isıtma</td>\n",
       "      <td>banyo_sayısı</td>\n",
       "      <td>balkon</td>\n",
       "      <td>eşyalı</td>\n",
       "      <td>kullanım_durumu</td>\n",
       "      <td>site_içerisinde</td>\n",
       "      <td>krediye_uygun</td>\n",
       "      <td>kimden</td>\n",
       "      <td>takas</td>\n",
       "    </tr>\n",
       "    <tr>\n",
       "      <th>216</th>\n",
       "      <td>fiyat</td>\n",
       "      <td>il</td>\n",
       "      <td>ilce</td>\n",
       "      <td>emlak_tipi</td>\n",
       "      <td>m²_(brüt)</td>\n",
       "      <td>m²_(net)</td>\n",
       "      <td>oda_sayısı</td>\n",
       "      <td>bina_yaşı</td>\n",
       "      <td>bulunduğu_kat</td>\n",
       "      <td>kat_sayısı</td>\n",
       "      <td>isıtma</td>\n",
       "      <td>banyo_sayısı</td>\n",
       "      <td>balkon</td>\n",
       "      <td>eşyalı</td>\n",
       "      <td>kullanım_durumu</td>\n",
       "      <td>site_içerisinde</td>\n",
       "      <td>krediye_uygun</td>\n",
       "      <td>kimden</td>\n",
       "      <td>takas</td>\n",
       "    </tr>\n",
       "    <tr>\n",
       "      <th>322</th>\n",
       "      <td>fiyat</td>\n",
       "      <td>il</td>\n",
       "      <td>ilce</td>\n",
       "      <td>emlak_tipi</td>\n",
       "      <td>m²_(brüt)</td>\n",
       "      <td>m²_(net)</td>\n",
       "      <td>oda_sayısı</td>\n",
       "      <td>bina_yaşı</td>\n",
       "      <td>bulunduğu_kat</td>\n",
       "      <td>kat_sayısı</td>\n",
       "      <td>isıtma</td>\n",
       "      <td>banyo_sayısı</td>\n",
       "      <td>balkon</td>\n",
       "      <td>eşyalı</td>\n",
       "      <td>kullanım_durumu</td>\n",
       "      <td>site_içerisinde</td>\n",
       "      <td>krediye_uygun</td>\n",
       "      <td>kimden</td>\n",
       "      <td>takas</td>\n",
       "    </tr>\n",
       "    <tr>\n",
       "      <th>429</th>\n",
       "      <td>fiyat</td>\n",
       "      <td>il</td>\n",
       "      <td>ilce</td>\n",
       "      <td>emlak_tipi</td>\n",
       "      <td>m²_(brüt)</td>\n",
       "      <td>m²_(net)</td>\n",
       "      <td>oda_sayısı</td>\n",
       "      <td>bina_yaşı</td>\n",
       "      <td>bulunduğu_kat</td>\n",
       "      <td>kat_sayısı</td>\n",
       "      <td>isıtma</td>\n",
       "      <td>banyo_sayısı</td>\n",
       "      <td>balkon</td>\n",
       "      <td>eşyalı</td>\n",
       "      <td>kullanım_durumu</td>\n",
       "      <td>site_içerisinde</td>\n",
       "      <td>krediye_uygun</td>\n",
       "      <td>kimden</td>\n",
       "      <td>takas</td>\n",
       "    </tr>\n",
       "    <tr>\n",
       "      <th>538</th>\n",
       "      <td>fiyat</td>\n",
       "      <td>il</td>\n",
       "      <td>ilce</td>\n",
       "      <td>emlak_tipi</td>\n",
       "      <td>m²_(brüt)</td>\n",
       "      <td>m²_(net)</td>\n",
       "      <td>oda_sayısı</td>\n",
       "      <td>bina_yaşı</td>\n",
       "      <td>bulunduğu_kat</td>\n",
       "      <td>kat_sayısı</td>\n",
       "      <td>isıtma</td>\n",
       "      <td>banyo_sayısı</td>\n",
       "      <td>balkon</td>\n",
       "      <td>eşyalı</td>\n",
       "      <td>kullanım_durumu</td>\n",
       "      <td>aidat_(tl)</td>\n",
       "      <td>krediye_uygun</td>\n",
       "      <td>kimden</td>\n",
       "      <td>takas</td>\n",
       "    </tr>\n",
       "  </tbody>\n",
       "</table>\n",
       "</div>"
      ],
      "text/plain": [
       "     fiyat  il  ilce  emlak_tipi    m2_brut    m2_net         oda  bina_yasi  \\\n",
       "108  fiyat  il  ilce  emlak_tipi  m²_(brüt)  m²_(net)  oda_sayısı  bina_yaşı   \n",
       "216  fiyat  il  ilce  emlak_tipi  m²_(brüt)  m²_(net)  oda_sayısı  bina_yaşı   \n",
       "322  fiyat  il  ilce  emlak_tipi  m²_(brüt)  m²_(net)  oda_sayısı  bina_yaşı   \n",
       "429  fiyat  il  ilce  emlak_tipi  m²_(brüt)  m²_(net)  oda_sayısı  bina_yaşı   \n",
       "538  fiyat  il  ilce  emlak_tipi  m²_(brüt)  m²_(net)  oda_sayısı  bina_yaşı   \n",
       "\n",
       "     bulundugu_kat  kat_sayisi  isitma         banyo  balkon  esyali  \\\n",
       "108  bulunduğu_kat  kat_sayısı  isıtma  banyo_sayısı  balkon  eşyalı   \n",
       "216  bulunduğu_kat  kat_sayısı  isıtma  banyo_sayısı  balkon  eşyalı   \n",
       "322  bulunduğu_kat  kat_sayısı  isıtma  banyo_sayısı  balkon  eşyalı   \n",
       "429  bulunduğu_kat  kat_sayısı  isıtma  banyo_sayısı  balkon  eşyalı   \n",
       "538  bulunduğu_kat  kat_sayısı  isıtma  banyo_sayısı  balkon  eşyalı   \n",
       "\n",
       "     kullanim_durumu  site_icerisinde  krediye_uygun  kimden  takas  \n",
       "108  kullanım_durumu  site_içerisinde  krediye_uygun  kimden  takas  \n",
       "216  kullanım_durumu  site_içerisinde  krediye_uygun  kimden  takas  \n",
       "322  kullanım_durumu  site_içerisinde  krediye_uygun  kimden  takas  \n",
       "429  kullanım_durumu  site_içerisinde  krediye_uygun  kimden  takas  \n",
       "538  kullanım_durumu       aidat_(tl)  krediye_uygun  kimden  takas  "
      ]
     },
     "execution_count": 13,
     "metadata": {},
     "output_type": "execute_result"
    }
   ],
   "source": [
    "df[df.il == \"il\"].head()"
   ]
  },
  {
   "cell_type": "markdown",
   "metadata": {},
   "source": [
    "* An error occurred on some pages while performing data extraction. Therefore, the data came in the same with the variable names to which it belongs. In order to correct this situation, a row-based drop operation has been applied in the \"il\" variable. In this way, corrupt data in other variables were also deleted."
   ]
  },
  {
   "cell_type": "code",
   "execution_count": 14,
   "metadata": {},
   "outputs": [],
   "source": [
    "df.drop(df[df.il == \"il\"].index, axis=0, inplace=True)"
   ]
  },
  {
   "cell_type": "code",
   "execution_count": 15,
   "metadata": {},
   "outputs": [
    {
     "data": {
      "text/plain": [
       "selçuklu      484\n",
       "şahinbey      434\n",
       "ipekyolu      410\n",
       "karaköprü     393\n",
       "şehitkamil    377\n",
       "             ... \n",
       "akseki          1\n",
       "şalpazarı       1\n",
       "suruç           1\n",
       "karapınar       1\n",
       "köyceğiz        1\n",
       "Name: ilce, Length: 178, dtype: int64"
      ]
     },
     "execution_count": 15,
     "metadata": {},
     "output_type": "execute_result"
    }
   ],
   "source": [
    "df[\"ilce\"].value_counts()"
   ]
  },
  {
   "cell_type": "markdown",
   "metadata": {},
   "source": [
    "## Examining the \"emlak_tipi\" variable"
   ]
  },
  {
   "cell_type": "code",
   "execution_count": 16,
   "metadata": {},
   "outputs": [
    {
     "data": {
      "text/plain": [
       "daire                6153\n",
       "satılık daire         518\n",
       "yazlık                 93\n",
       "residence              52\n",
       "satılık residence      15\n",
       "kooperatif              4\n",
       "satılık yazlık          1\n",
       "Name: emlak_tipi, dtype: int64"
      ]
     },
     "execution_count": 16,
     "metadata": {},
     "output_type": "execute_result"
    }
   ],
   "source": [
    "df[\"emlak_tipi\"].value_counts()"
   ]
  },
  {
   "cell_type": "markdown",
   "metadata": {},
   "source": [
    "* daire : apartment\n",
    "* satılık daire : apartment for sale\n",
    "* yazlık : summerhouse\n",
    "* residence : residence\n",
    "* satılık residence : residence for sale\n",
    "* kooperatif : cooperative\n",
    "* satılık yazlık : summerhouse for sale\n",
    "\n",
    "\n",
    "Since the datas of \"daire\" and \"satılık daire\", \"residence\" and \"residence for sale\", \"yazlık\" and \"satılık yazlık\" mean the same, the \"satılık\" part has been removed. In addition, \"kooperatif\" data was turned into \"daire\" because there was very little."
   ]
  },
  {
   "cell_type": "code",
   "execution_count": 17,
   "metadata": {},
   "outputs": [],
   "source": [
    "df[\"emlak_tipi\"] = df[\"emlak_tipi\"].replace([\"satılık daire\",\"satılık residence\",\"kooperatif\",\"satılık yazlık\"],\n",
    "                                            [\"daire\",\"residence\",\"daire\",\"yazlık\"])"
   ]
  },
  {
   "cell_type": "markdown",
   "metadata": {},
   "source": [
    "## Examining the \"oda\" variable"
   ]
  },
  {
   "cell_type": "code",
   "execution_count": 18,
   "metadata": {},
   "outputs": [
    {
     "data": {
      "text/plain": [
       "3+1             2999\n",
       "2+1             2329\n",
       "4+1              897\n",
       "1+1              317\n",
       "5+1              138\n",
       "35+1              27\n",
       "25+1              24\n",
       "6+1               23\n",
       "3+2               11\n",
       "5+2               11\n",
       "4+2                9\n",
       "2+0                8\n",
       "6+2                8\n",
       "stüdyo (1+0)       8\n",
       "45+1               7\n",
       "7+1                7\n",
       "2+2                5\n",
       "15+1               2\n",
       "5+3                1\n",
       "10 üzeri           1\n",
       "8+2                1\n",
       "7+2                1\n",
       "8+4                1\n",
       "9+3                1\n",
       "Name: oda, dtype: int64"
      ]
     },
     "execution_count": 18,
     "metadata": {},
     "output_type": "execute_result"
    }
   ],
   "source": [
    "df.oda.value_counts()"
   ]
  },
  {
   "cell_type": "markdown",
   "metadata": {},
   "source": [
    "* Normally, while the number of rooms is \"3.5+1\" on the website, this data came as \"35+1\" during the data extraction process. Because this is inaccurate, this and similar data has been corrected.\n",
    "\n",
    "\n",
    "* One house has a value of \"10 üzeri\", which means \"over 10\". Since there is only one of this value, it was considered unnecessary and deleted from the data set."
   ]
  },
  {
   "cell_type": "code",
   "execution_count": 19,
   "metadata": {},
   "outputs": [],
   "source": [
    "df[\"oda\"] = df[\"oda\"].replace([\"35+1\",\"25+1\",\"stüdyo (1+0)\",\"45+1\",\"15+1\"],[\"3+1\",\"2+1\",\"1+0\",\"4+1\",\"1+1\"])"
   ]
  },
  {
   "cell_type": "code",
   "execution_count": 20,
   "metadata": {},
   "outputs": [],
   "source": [
    "df.drop(df[df.oda == \"10 üzeri\"].index, axis = 0, inplace=True)"
   ]
  },
  {
   "cell_type": "markdown",
   "metadata": {},
   "source": [
    "## Examining the \"bina_yasi\" variable"
   ]
  },
  {
   "cell_type": "code",
   "execution_count": 21,
   "metadata": {},
   "outputs": [
    {
     "data": {
      "text/plain": [
       "0              2146\n",
       "5-10 arası     1270\n",
       "11-15 arası     560\n",
       "4               533\n",
       "16-20 arası     457\n",
       "2               410\n",
       "1               400\n",
       "3               374\n",
       "21-25 arası     365\n",
       "26-30 arası     216\n",
       "31 ve üzeri     104\n",
       "Name: bina_yasi, dtype: int64"
      ]
     },
     "execution_count": 21,
     "metadata": {},
     "output_type": "execute_result"
    }
   ],
   "source": [
    "df[\"bina_yasi\"].value_counts()"
   ]
  },
  {
   "cell_type": "markdown",
   "metadata": {},
   "source": [
    "* Some data is given intermittently in the \"bina_yasi\" variable. These intermittent values   were replaced by the mean."
   ]
  },
  {
   "cell_type": "code",
   "execution_count": 22,
   "metadata": {},
   "outputs": [],
   "source": [
    "df[\"bina_yasi\"] = df[\"bina_yasi\"].replace([\"5-10 arası\",\"11-15 arası\",\"16-20 arası\",\"21-25 arası\",\"26-30 arası\",\"31 ve üzeri\"],\n",
    "                                         [\"7\",\"13\",\"18\",\"23\",\"28\",\"31\"])"
   ]
  },
  {
   "cell_type": "markdown",
   "metadata": {},
   "source": [
    "## Examining the \"bulundugu_kat\" variable"
   ]
  },
  {
   "cell_type": "code",
   "execution_count": 23,
   "metadata": {},
   "outputs": [
    {
     "data": {
      "text/plain": [
       "2               1363\n",
       "3                962\n",
       "1                905\n",
       "4                665\n",
       "5                528\n",
       "yüksek giriş     347\n",
       "6                315\n",
       "7                226\n",
       "bahçe katı       185\n",
       "8                180\n",
       "giriş katı       152\n",
       "9                142\n",
       "zemin kat        110\n",
       "kot 2            101\n",
       "kot 1             83\n",
       "10                80\n",
       "11                76\n",
       "kot 3             74\n",
       "kot 4             57\n",
       "12                49\n",
       "villa tipi        33\n",
       "14                32\n",
       "çatı katı         31\n",
       "13                30\n",
       "müstakil          28\n",
       "15                21\n",
       "bodrum kat        12\n",
       "16                 9\n",
       "20                 9\n",
       "17                 9\n",
       "18                 5\n",
       "30 ve üzeri        4\n",
       "26                 2\n",
       "24                 2\n",
       "21                 2\n",
       "22                 2\n",
       "23                 1\n",
       "19                 1\n",
       "27                 1\n",
       "25                 1\n",
       "Name: bulundugu_kat, dtype: int64"
      ]
     },
     "execution_count": 23,
     "metadata": {},
     "output_type": "execute_result"
    }
   ],
   "source": [
    "df[\"bulundugu_kat\"].value_counts()"
   ]
  },
  {
   "cell_type": "markdown",
   "metadata": {},
   "source": [
    "* yüksek giriş : high enterance\n",
    "* bahçe katı : garden floor\n",
    "* giriş katı : enterance floor\n",
    "* zemin kat : ground floor\n",
    "* kot 2 : -2. floor\n",
    "* kot 1 : -1. floor\n",
    "* kot 3 : -3. floor\n",
    "* kot 4 : -4. floor\n",
    "* villa tipi : villa\n",
    "* çatı katı : penthouse\n",
    "* müstakil : detached house\n",
    "* bodrum kat : basement \n",
    "* 30 ve üzeri : 30 and over"
   ]
  },
  {
   "cell_type": "markdown",
   "metadata": {},
   "source": [
    "## Examining the \"kat_sayisi\" variable"
   ]
  },
  {
   "cell_type": "code",
   "execution_count": 24,
   "metadata": {},
   "outputs": [
    {
     "data": {
      "text/plain": [
       "4              1258\n",
       "5              1171\n",
       "3               833\n",
       "6               733\n",
       "7               525\n",
       "8               362\n",
       "2               317\n",
       "10              314\n",
       "9               285\n",
       "11              218\n",
       "12              180\n",
       "14              134\n",
       "13              130\n",
       "15              121\n",
       "16               59\n",
       "1                32\n",
       "18               27\n",
       "17               25\n",
       "30 ve üzeri      21\n",
       "20               16\n",
       "21               15\n",
       "23               12\n",
       "22               12\n",
       "25                9\n",
       "24                7\n",
       "26                5\n",
       "19                4\n",
       "27                4\n",
       "28                3\n",
       "29                3\n",
       "Name: kat_sayisi, dtype: int64"
      ]
     },
     "execution_count": 24,
     "metadata": {},
     "output_type": "execute_result"
    }
   ],
   "source": [
    "df[\"kat_sayisi\"].value_counts()"
   ]
  },
  {
   "cell_type": "markdown",
   "metadata": {},
   "source": [
    "* 30 ve üzeri : 30 and over"
   ]
  },
  {
   "cell_type": "code",
   "execution_count": 25,
   "metadata": {},
   "outputs": [],
   "source": [
    "df[\"kat_sayisi\"] = df[\"kat_sayisi\"].replace(\"30 ve üzeri\",\"30\")"
   ]
  },
  {
   "cell_type": "markdown",
   "metadata": {},
   "source": [
    "## Examining the \"isitma\" variable"
   ]
  },
  {
   "cell_type": "code",
   "execution_count": 26,
   "metadata": {},
   "outputs": [
    {
     "data": {
      "text/plain": [
       "doğalgaz (kombi)       4140\n",
       "klima                   940\n",
       "merkezi (pay ölçer)     583\n",
       "merkezi                 462\n",
       "yerden isıtma           296\n",
       "soba                    146\n",
       "yok                     127\n",
       "kat kaloriferi           47\n",
       "doğalgaz sobası          45\n",
       "güneş enerjisi           14\n",
       "jeotermal                13\n",
       "isı pompası               9\n",
       "vrv                       8\n",
       "şömine                    3\n",
       "fancoil ünitesi           2\n",
       "Name: isitma, dtype: int64"
      ]
     },
     "execution_count": 26,
     "metadata": {},
     "output_type": "execute_result"
    }
   ],
   "source": [
    "df[\"isitma\"].value_counts()"
   ]
  },
  {
   "cell_type": "markdown",
   "metadata": {},
   "source": [
    "* doğalgaz (kombi) : naturalgas(combi)\n",
    "* klima : air conditioning\n",
    "* merkezi (pay ölçer) : central (share meter)\n",
    "* merkezi : central\n",
    "* yerden isıtma : underfloor heating\n",
    "* soba : stove\n",
    "* yok : none\n",
    "* kat kaloriferi : floor heater\n",
    "* doğalgaz sobası : gas stove\n",
    "* güneş enerjisi : solar energy\n",
    "* jeotermal : geothermal\n",
    "* isı pompası : heat pump\n",
    "* şömine : fireplace\n",
    "* fancoil ünitesi : fancoil unit\n",
    "\n",
    "\n",
    "Since the datas of \"merkezi (pay ölçer)\" and \"merkezi\", \"doğalgaz (kombi)\" and \"doğalgaz\" mean the same, parentheses parts deleted."
   ]
  },
  {
   "cell_type": "code",
   "execution_count": 27,
   "metadata": {},
   "outputs": [],
   "source": [
    "df[\"isitma\"] = df[\"isitma\"].replace([\"merkezi (pay ölçer)\",\"doğalgaz (kombi)\"],[\"merkezi\",\"doğalgaz\"])"
   ]
  },
  {
   "cell_type": "markdown",
   "metadata": {},
   "source": [
    "## Examining the \"banyo\" variable"
   ]
  },
  {
   "cell_type": "code",
   "execution_count": 28,
   "metadata": {},
   "outputs": [
    {
     "data": {
      "text/plain": [
       "1      3734\n",
       "2      2936\n",
       "3       132\n",
       "4        25\n",
       "yok       4\n",
       "5         4\n",
       "Name: banyo, dtype: int64"
      ]
     },
     "execution_count": 28,
     "metadata": {},
     "output_type": "execute_result"
    }
   ],
   "source": [
    "df[\"banyo\"].value_counts()"
   ]
  },
  {
   "cell_type": "markdown",
   "metadata": {},
   "source": [
    "* The \"yok\" data in the bathroom variable means that there is no bathroom in the apartment. This data was deleted because it was not needed."
   ]
  },
  {
   "cell_type": "code",
   "execution_count": 29,
   "metadata": {},
   "outputs": [],
   "source": [
    "df.drop(df[df.banyo == \"yok\"].index, axis=0, inplace=True)"
   ]
  },
  {
   "cell_type": "markdown",
   "metadata": {},
   "source": [
    "## Examining the \"balkon\" variable"
   ]
  },
  {
   "cell_type": "code",
   "execution_count": 30,
   "metadata": {},
   "outputs": [
    {
     "data": {
      "text/plain": [
       "var    6483\n",
       "yok     348\n",
       "Name: balkon, dtype: int64"
      ]
     },
     "execution_count": 30,
     "metadata": {},
     "output_type": "execute_result"
    }
   ],
   "source": [
    "df[\"balkon\"].value_counts()"
   ]
  },
  {
   "cell_type": "markdown",
   "metadata": {},
   "source": [
    "* var : There is balcony\n",
    "* yok : There is not balcony"
   ]
  },
  {
   "cell_type": "markdown",
   "metadata": {},
   "source": [
    "## Examining the \"esyali\" variable"
   ]
  },
  {
   "cell_type": "code",
   "execution_count": 31,
   "metadata": {},
   "outputs": [
    {
     "data": {
      "text/plain": [
       "hayır            6075\n",
       "evet              486\n",
       "belirtilmemiş     270\n",
       "Name: esyali, dtype: int64"
      ]
     },
     "execution_count": 31,
     "metadata": {},
     "output_type": "execute_result"
    }
   ],
   "source": [
    "df[\"esyali\"].value_counts()"
   ]
  },
  {
   "cell_type": "markdown",
   "metadata": {},
   "source": [
    "* evet : Sold as furnished\n",
    "* hayır : Sold unfurnished\n",
    "* belirtilmemiş :  Unspecified"
   ]
  },
  {
   "cell_type": "markdown",
   "metadata": {},
   "source": [
    "## Examining the \"kullanim_durumu\" variable"
   ]
  },
  {
   "cell_type": "code",
   "execution_count": 32,
   "metadata": {},
   "outputs": [
    {
     "data": {
      "text/plain": [
       "boş            4214\n",
       "mülk sahibi    1583\n",
       "kiracılı       1034\n",
       "Name: kullanim_durumu, dtype: int64"
      ]
     },
     "execution_count": 32,
     "metadata": {},
     "output_type": "execute_result"
    }
   ],
   "source": [
    "df[\"kullanim_durumu\"].value_counts()"
   ]
  },
  {
   "cell_type": "markdown",
   "metadata": {},
   "source": [
    "* boş : empty\n",
    "* mülk sahibi : property owner\n",
    "* kiracılı : tenant"
   ]
  },
  {
   "cell_type": "markdown",
   "metadata": {},
   "source": [
    "## Examining the \"site_icerisinde\" variable"
   ]
  },
  {
   "cell_type": "code",
   "execution_count": 33,
   "metadata": {},
   "outputs": [
    {
     "data": {
      "text/plain": [
       "hayır            4397\n",
       "evet             1448\n",
       "belirtilmemiş     405\n",
       "100                78\n",
       "150                40\n",
       "                 ... \n",
       "650                 1\n",
       "718                 1\n",
       "397                 1\n",
       "155                 1\n",
       "530                 1\n",
       "Name: site_icerisinde, Length: 114, dtype: int64"
      ]
     },
     "execution_count": 33,
     "metadata": {},
     "output_type": "execute_result"
    }
   ],
   "source": [
    "df[\"site_icerisinde\"].value_counts()"
   ]
  },
  {
   "cell_type": "markdown",
   "metadata": {},
   "source": [
    "* hayır : Not in the site\n",
    "* evet : Within the site\n",
    "* belirtilmemiş : unspecified\n",
    "\n",
    "\n",
    "While extracting the data, some of the data in the \"aidat\" variable has been mixed with the \"site_icerisinde\" variable. Therefore, the interfering data was converted to the value of \"NaN\", leaving only the data of the variable \"site_icerisinde\"."
   ]
  },
  {
   "cell_type": "code",
   "execution_count": 34,
   "metadata": {},
   "outputs": [],
   "source": [
    "liste = list(df[\"site_icerisinde\"].unique())\n",
    "liste.remove(\"evet\")\n",
    "liste.remove(\"hayır\")\n",
    "liste.remove(\"belirtilmemiş\")\n",
    "df[\"site_icerisinde\"] = df[\"site_icerisinde\"].replace(liste, np.nan)"
   ]
  },
  {
   "cell_type": "markdown",
   "metadata": {},
   "source": [
    "## Examining the \"krediye_uygun\" variable"
   ]
  },
  {
   "cell_type": "code",
   "execution_count": 35,
   "metadata": {},
   "outputs": [
    {
     "data": {
      "text/plain": [
       "evet             6017\n",
       "hayır             578\n",
       "belirtilmemiş     236\n",
       "Name: krediye_uygun, dtype: int64"
      ]
     },
     "execution_count": 35,
     "metadata": {},
     "output_type": "execute_result"
    }
   ],
   "source": [
    "df[\"krediye_uygun\"].value_counts()"
   ]
  },
  {
   "cell_type": "markdown",
   "metadata": {},
   "source": [
    "* evet : Available for loan\n",
    "* hayır : Not available fot loan\n",
    "* belirtilmemiş : unspecified"
   ]
  },
  {
   "cell_type": "markdown",
   "metadata": {},
   "source": [
    "## Examining the \"kimden\" variable"
   ]
  },
  {
   "cell_type": "code",
   "execution_count": 36,
   "metadata": {},
   "outputs": [
    {
     "data": {
      "text/plain": [
       "emlak ofisinden       5808\n",
       "sahibinden             673\n",
       "inşaat firmasından     342\n",
       "bankadan                 8\n",
       "Name: kimden, dtype: int64"
      ]
     },
     "execution_count": 36,
     "metadata": {},
     "output_type": "execute_result"
    }
   ],
   "source": [
    "df[\"kimden\"].value_counts()"
   ]
  },
  {
   "cell_type": "markdown",
   "metadata": {},
   "source": [
    "* emlak ofisinden : real estate agent\n",
    "* sahibinden : from the owner\n",
    "* inşaat firmasından : from construction company \n",
    "* bankadan : from the bank"
   ]
  },
  {
   "cell_type": "markdown",
   "metadata": {},
   "source": [
    "## Examining the \"takas\" variable"
   ]
  },
  {
   "cell_type": "code",
   "execution_count": 37,
   "metadata": {},
   "outputs": [
    {
     "data": {
      "text/plain": [
       "hayır    5367\n",
       "evet     1464\n",
       "Name: takas, dtype: int64"
      ]
     },
     "execution_count": 37,
     "metadata": {},
     "output_type": "execute_result"
    }
   ],
   "source": [
    "df[\"takas\"].value_counts()"
   ]
  },
  {
   "cell_type": "markdown",
   "metadata": {},
   "source": [
    "* hayır : not suitable for swap \n",
    "* evet : suitable for swap"
   ]
  },
  {
   "cell_type": "markdown",
   "metadata": {},
   "source": [
    "All variables were checked one by one and errors that occurred while data were extracted were corrected. The corrected data set was then saved as a new csv file."
   ]
  },
  {
   "cell_type": "code",
   "execution_count": 38,
   "metadata": {},
   "outputs": [],
   "source": [
    "df.to_csv(r\"Datasets/data_analyzed.csv\",encoding=\"utf-8\",index=False,mode=\"w\")"
   ]
  },
  {
   "cell_type": "code",
   "execution_count": null,
   "metadata": {},
   "outputs": [],
   "source": []
  }
 ],
 "metadata": {
  "kernelspec": {
   "display_name": "Python 3",
   "language": "python",
   "name": "python3"
  },
  "language_info": {
   "codemirror_mode": {
    "name": "ipython",
    "version": 3
   },
   "file_extension": ".py",
   "mimetype": "text/x-python",
   "name": "python",
   "nbconvert_exporter": "python",
   "pygments_lexer": "ipython3",
   "version": "3.7.6"
  }
 },
 "nbformat": 4,
 "nbformat_minor": 4
}
